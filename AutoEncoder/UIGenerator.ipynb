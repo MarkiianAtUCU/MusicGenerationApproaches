{
 "cells": [
  {
   "cell_type": "code",
   "execution_count": 1,
   "metadata": {},
   "outputs": [
    {
     "name": "stderr",
     "output_type": "stream",
     "text": [
      "Using TensorFlow backend.\n"
     ]
    },
    {
     "name": "stdout",
     "output_type": "stream",
     "text": [
      "WARNING:tensorflow:From /home/mmatsi/.local/lib/python3.6/site-packages/tensorflow_core/python/ops/resource_variable_ops.py:1630: calling BaseResourceVariable.__init__ (from tensorflow.python.ops.resource_variable_ops) with constraint is deprecated and will be removed in a future version.\n",
      "Instructions for updating:\n",
      "If using Keras pass *_constraint arguments to layers.\n",
      "WARNING:tensorflow:From /home/mmatsi/.local/lib/python3.6/site-packages/tensorflow_core/python/ops/math_grad.py:1424: where (from tensorflow.python.ops.array_ops) is deprecated and will be removed in a future version.\n",
      "Instructions for updating:\n",
      "Use tf.where in 2.0, which has the same broadcast rule as np.where\n",
      "WARNING:tensorflow:From /home/mmatsi/.local/lib/python3.6/site-packages/keras/backend/tensorflow_backend.py:422: The name tf.global_variables is deprecated. Please use tf.compat.v1.global_variables instead.\n",
      "\n"
     ]
    }
   ],
   "source": [
    "import os\n",
    "os.environ[\"CUDA_DEVICE_ORDER\"] = \"PCI_BUS_ID\"   # see issue #152\n",
    "os.environ[\"CUDA_VISIBLE_DEVICES\"] = \"\"\n",
    "\n",
    "import numpy as np\n",
    "import keras\n",
    "from keras.models import Model, load_model\n",
    "import midi\n",
    "import cv2\n",
    "\n",
    "dir_name = 'History/'\n",
    "sub_dir_name = 'e2000/'\n",
    "\n",
    "# print \"Loading Keras...\"\n",
    "# print \"Keras Version: \" + keras.__version__\n",
    "\n",
    "from keras import backend as K\n",
    "\n",
    "K.set_image_data_format('channels_first')\n",
    "\n",
    "# print \"Loading Encoder...\"\n",
    "model = load_model(dir_name + 'model.h5')\n",
    "enc = K.function([model.get_layer('encoder').input, K.learning_phase()],\n",
    "                 [model.layers[-1].output])\n",
    "enc_model = Model(inputs=model.input, outputs=model.get_layer('pre_encoder').output)\n",
    "\n",
    "# print \"Loading Statistics...\"\n",
    "means = np.load(dir_name + sub_dir_name + 'means.npy')\n",
    "evals = np.load(dir_name + sub_dir_name + 'evals.npy')\n",
    "evecs = np.load(dir_name + sub_dir_name + 'evecs.npy')\n",
    "stds = np.load(dir_name + sub_dir_name + 'stds.npy')\n",
    "\n",
    "# print \"Loading Songs...\"\n",
    "y_samples = np.load('samples.npy')\n",
    "y_lengths = np.load('lengths.npy')\n"
   ]
  },
  {
   "cell_type": "code",
   "execution_count": 2,
   "metadata": {},
   "outputs": [
    {
     "name": "stdout",
     "output_type": "stream",
     "text": [
      "Live_09:32:56.mid\n"
     ]
    }
   ],
   "source": [
    "import time\n",
    "print (time.strftime(\"Live_%H:%M:%S.mid\"))"
   ]
  },
  {
   "cell_type": "code",
   "execution_count": 3,
   "metadata": {},
   "outputs": [],
   "source": [
    "cur_params = np.zeros((120,))\n",
    "cur_params[1] = -5\n",
    "note_thresh = 10"
   ]
  },
  {
   "cell_type": "code",
   "execution_count": 4,
   "metadata": {},
   "outputs": [],
   "source": [
    "x = means + np.dot(cur_params * evals, evecs)\n",
    "x = np.expand_dims(x, axis=0)"
   ]
  },
  {
   "cell_type": "code",
   "execution_count": 5,
   "metadata": {},
   "outputs": [],
   "source": [
    "y = enc([x, 0])[0][0]\n",
    "cur_notes = (y * 255.0).astype(np.uint8)"
   ]
  },
  {
   "cell_type": "code",
   "execution_count": 5,
   "metadata": {},
   "outputs": [],
   "source": [
    "midi.samples_to_midi(cur_notes, 'live2.mid', 16, note_thresh)"
   ]
  },
  {
   "cell_type": "code",
   "execution_count": 6,
   "metadata": {},
   "outputs": [],
   "source": [
    "def generate():\n",
    "    global cur_notes\n",
    "    global note_thresh\n",
    "    filename = time.strftime(\"GeneratedAudio/Live_%H:%M:%S.mid\")\n",
    "    midi.samples_to_midi(cur_notes, filename, 16, note_thresh)\n",
    "    print(f\"Generated: {filename}\")"
   ]
  },
  {
   "cell_type": "code",
   "execution_count": null,
   "metadata": {},
   "outputs": [
    {
     "name": "stdout",
     "output_type": "stream",
     "text": [
      "Generated: GeneratedAudio/Live_11:29:41.mid\n",
      "Generated: GeneratedAudio/Live_11:29:45.mid\n"
     ]
    }
   ],
   "source": [
    "import tkinter as tk\n",
    "from PIL import Image, ImageTk\n",
    "from functools import partial\n",
    "\n",
    "root = tk.Tk()\n",
    "root.title(\"MIDI generate\")\n",
    "vector = [0 for _ in range(20)]\n",
    "\n",
    "def update_vector(j, val):\n",
    "    global vector\n",
    "    global cur_notes\n",
    "    global canvass\n",
    "    global imgs\n",
    "    global note_thresh\n",
    "    \n",
    "\n",
    "#     cur_params = np.zeros((120,))\n",
    "    cur_params[j] = float(val)\n",
    "    x = means + np.dot(cur_params * evals, evecs)\n",
    "    x = np.expand_dims(x, axis=0)\n",
    "    y = enc([x, 0])[0][0]\n",
    "    cur_notes = (y * 255.0).astype(np.uint8)\n",
    "    imgs = []\n",
    "    for i in range(16):\n",
    "        \n",
    "        cur_note_for_image = np.copy(cur_notes[i])\n",
    "        cur_note_for_image[cur_note_for_image<=note_thresh] = 0\n",
    "        new = cv2.applyColorMap(cur_note_for_image, cv2.COLORMAP_HOT)                                                                                                                                                    \n",
    "        rgb_img = cv2.resize(new, (int(96 * 1.5), int(96 * 1.5)), interpolation=cv2.INTER_NEAREST) \n",
    "\n",
    "        b,g,r = cv2.split(rgb_img)\n",
    "        rgb_img = cv2.merge((r,g,b))\n",
    "        imgs.append(ImageTk.PhotoImage(image=Image.fromarray(rgb_img)))\n",
    "        canvass[i].configure(image=imgs[-1])\n",
    "        canvass[i].image = imgs[-1]\n",
    "    \n",
    "def update_thresh(val):\n",
    "    global note_thresh\n",
    "    note_thresh = float(val)\n",
    "    imgs = []\n",
    "    for i in range(16):\n",
    "        cur_note_for_image = np.copy(cur_notes[i])\n",
    "                    \n",
    "        cur_note_for_image[cur_note_for_image<=note_thresh] = 0\n",
    "        new = cv2.applyColorMap(cur_note_for_image, cv2.COLORMAP_HOT)                                                                                                                                                    \n",
    "        rgb_img = cv2.resize(new, (int(96 * 1.5), int(96 * 1.5)), interpolation=cv2.INTER_NEAREST) \n",
    "\n",
    "        b,g,r = cv2.split(rgb_img)\n",
    "        rgb_img = cv2.merge((r,g,b))\n",
    "        imgs.append(ImageTk.PhotoImage(image=Image.fromarray(rgb_img)))\n",
    "        canvass[i].configure(image=imgs[-1])\n",
    "        canvass[i].image = imgs[-1]\n",
    "    \n",
    "def print_type(self, event): \n",
    "    print(event.type) \n",
    "\n",
    "sliders = [\n",
    "    tk.Scale(root, from_=-5, to_=5, resolution=0.1, orient=tk.VERTICAL, command=partial(update_vector, i), showvalue=0)\n",
    "    for i in range(32)\n",
    "]\n",
    "for i, slider in enumerate(sliders):\n",
    "    slider.grid(column=i, row = 0)\n",
    "    \n",
    "    \n",
    "canvass = []\n",
    "imgs = []\n",
    "\n",
    "\n",
    "for i in range(16):\n",
    "    new = cv2.applyColorMap(cur_notes[i], cv2.COLORMAP_HOT)                                                                                                                                                    \n",
    "    rgb_img = cv2.resize(new, (int(96 * 1.5), int(96 * 1.5)), interpolation=cv2.INTER_NEAREST) \n",
    "    \n",
    "    b,g,r = cv2.split(rgb_img)\n",
    "    rgb_img = cv2.merge((r,g,b))\n",
    "    imgs.append(ImageTk.PhotoImage(image=Image.fromarray(rgb_img)))\n",
    "    canvass.append(tk.Label(root, image=imgs[-1]))\n",
    "    canvass[-1].grid(column=i*4 - int(i/8)*8*4, row=1 + int(i/8), columnspan=4)\n",
    "\n",
    "tk.Button(root, text=\"Generate\", command=generate).grid(column=1, row=3, columnspan=2)\n",
    "tk.Scale(root, from_=200, to_=10, resolution=1, orient=tk.HORIZONTAL, \n",
    "         showvalue=1, length=300, command=update_thresh).grid(column=3, row=3, columnspan=9)\n",
    "root.mainloop()\n"
   ]
  },
  {
   "cell_type": "code",
   "execution_count": null,
   "metadata": {},
   "outputs": [],
   "source": []
  }
 ],
 "metadata": {
  "kernelspec": {
   "display_name": "Python 3",
   "language": "python",
   "name": "python3"
  },
  "language_info": {
   "codemirror_mode": {
    "name": "ipython",
    "version": 3
   },
   "file_extension": ".py",
   "mimetype": "text/x-python",
   "name": "python",
   "nbconvert_exporter": "python",
   "pygments_lexer": "ipython3",
   "version": "3.6.9"
  }
 },
 "nbformat": 4,
 "nbformat_minor": 2
}
